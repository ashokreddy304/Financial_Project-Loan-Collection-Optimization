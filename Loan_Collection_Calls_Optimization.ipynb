{
 "cells": [
  {
   "cell_type": "code",
   "execution_count": 179,
   "id": "b2590466-9c90-4121-bbeb-4227c0a275c7",
   "metadata": {},
   "outputs": [],
   "source": [
    "import numpy as np\n",
    "import pandas as pd\n",
    "from scipy import stats\n",
    "import statsmodels.api as sm\n",
    "import statsmodels.formula.api as smf\n",
    "import matplotlib.pyplot as plt"
   ]
  },
  {
   "cell_type": "code",
   "execution_count": 2,
   "id": "78c6a565-543c-4bf4-90c5-aef2ec8f9a20",
   "metadata": {},
   "outputs": [],
   "source": [
    "df = pd.read_csv('synthetic_payu_sample_2000.csv')"
   ]
  },
  {
   "cell_type": "code",
   "execution_count": 3,
   "id": "103af4d5-80c7-4831-848e-54b954502df4",
   "metadata": {},
   "outputs": [
    {
     "data": {
      "text/html": [
       "<div>\n",
       "<style scoped>\n",
       "    .dataframe tbody tr th:only-of-type {\n",
       "        vertical-align: middle;\n",
       "    }\n",
       "\n",
       "    .dataframe tbody tr th {\n",
       "        vertical-align: top;\n",
       "    }\n",
       "\n",
       "    .dataframe thead th {\n",
       "        text-align: right;\n",
       "    }\n",
       "</style>\n",
       "<table border=\"1\" class=\"dataframe\">\n",
       "  <thead>\n",
       "    <tr style=\"text-align: right;\">\n",
       "      <th></th>\n",
       "      <th>timestamp</th>\n",
       "      <th>method</th>\n",
       "      <th>amount</th>\n",
       "      <th>status</th>\n",
       "      <th>settlement_time_s</th>\n",
       "      <th>date</th>\n",
       "      <th>period</th>\n",
       "    </tr>\n",
       "  </thead>\n",
       "  <tbody>\n",
       "    <tr>\n",
       "      <th>0</th>\n",
       "      <td>2025-02-27 22:15:42</td>\n",
       "      <td>Card</td>\n",
       "      <td>1254.1700</td>\n",
       "      <td>Success</td>\n",
       "      <td>8</td>\n",
       "      <td>2025-02-27</td>\n",
       "      <td>before</td>\n",
       "    </tr>\n",
       "    <tr>\n",
       "      <th>1</th>\n",
       "      <td>2025-01-16 08:32:48</td>\n",
       "      <td>UPI</td>\n",
       "      <td>477.9500</td>\n",
       "      <td>Success</td>\n",
       "      <td>6</td>\n",
       "      <td>2025-01-16</td>\n",
       "      <td>before</td>\n",
       "    </tr>\n",
       "    <tr>\n",
       "      <th>2</th>\n",
       "      <td>2025-07-07 22:56:32</td>\n",
       "      <td>Netbanking</td>\n",
       "      <td>484.2500</td>\n",
       "      <td>Success</td>\n",
       "      <td>7</td>\n",
       "      <td>2025-07-07</td>\n",
       "      <td>after</td>\n",
       "    </tr>\n",
       "    <tr>\n",
       "      <th>3</th>\n",
       "      <td>2025-07-16 09:22:35</td>\n",
       "      <td>UPI</td>\n",
       "      <td>1585.6365</td>\n",
       "      <td>Success</td>\n",
       "      <td>5</td>\n",
       "      <td>2025-07-16</td>\n",
       "      <td>after</td>\n",
       "    </tr>\n",
       "    <tr>\n",
       "      <th>4</th>\n",
       "      <td>2025-03-09 07:58:46</td>\n",
       "      <td>UPI</td>\n",
       "      <td>507.5300</td>\n",
       "      <td>Success</td>\n",
       "      <td>3</td>\n",
       "      <td>2025-03-09</td>\n",
       "      <td>before</td>\n",
       "    </tr>\n",
       "  </tbody>\n",
       "</table>\n",
       "</div>"
      ],
      "text/plain": [
       "             timestamp      method     amount   status  settlement_time_s  \\\n",
       "0  2025-02-27 22:15:42        Card  1254.1700  Success                  8   \n",
       "1  2025-01-16 08:32:48         UPI   477.9500  Success                  6   \n",
       "2  2025-07-07 22:56:32  Netbanking   484.2500  Success                  7   \n",
       "3  2025-07-16 09:22:35         UPI  1585.6365  Success                  5   \n",
       "4  2025-03-09 07:58:46         UPI   507.5300  Success                  3   \n",
       "\n",
       "         date  period  \n",
       "0  2025-02-27  before  \n",
       "1  2025-01-16  before  \n",
       "2  2025-07-07   after  \n",
       "3  2025-07-16   after  \n",
       "4  2025-03-09  before  "
      ]
     },
     "execution_count": 3,
     "metadata": {},
     "output_type": "execute_result"
    }
   ],
   "source": [
    "df.head()"
   ]
  },
  {
   "cell_type": "code",
   "execution_count": 4,
   "id": "9452c32b-4509-42dd-b7f7-7740393ed876",
   "metadata": {},
   "outputs": [
    {
     "data": {
      "text/plain": [
       "(2000, 7)"
      ]
     },
     "execution_count": 4,
     "metadata": {},
     "output_type": "execute_result"
    }
   ],
   "source": [
    "df.shape"
   ]
  },
  {
   "cell_type": "code",
   "execution_count": 5,
   "id": "bf9ec075-7b90-4b95-b304-1dcc6dc6f59f",
   "metadata": {},
   "outputs": [
    {
     "name": "stdout",
     "output_type": "stream",
     "text": [
      "<class 'pandas.core.frame.DataFrame'>\n",
      "RangeIndex: 2000 entries, 0 to 1999\n",
      "Data columns (total 7 columns):\n",
      " #   Column             Non-Null Count  Dtype  \n",
      "---  ------             --------------  -----  \n",
      " 0   timestamp          2000 non-null   object \n",
      " 1   method             2000 non-null   object \n",
      " 2   amount             2000 non-null   float64\n",
      " 3   status             2000 non-null   object \n",
      " 4   settlement_time_s  2000 non-null   int64  \n",
      " 5   date               2000 non-null   object \n",
      " 6   period             2000 non-null   object \n",
      "dtypes: float64(1), int64(1), object(5)\n",
      "memory usage: 109.5+ KB\n"
     ]
    }
   ],
   "source": [
    "df.info()"
   ]
  },
  {
   "cell_type": "code",
   "execution_count": 12,
   "id": "3b76b844-f238-46ba-bd69-970baadcd1a5",
   "metadata": {},
   "outputs": [],
   "source": [
    "df['date'] = pd.to_datetime(df['date'])\n",
    "df['timestamp'] = pd.to_datetime(df['timestamp'], format='%Y-%m-%d %H:%M:%S')"
   ]
  },
  {
   "cell_type": "code",
   "execution_count": 25,
   "id": "236d8d63-ac7d-46a9-9997-ffac42f1a714",
   "metadata": {},
   "outputs": [],
   "source": [
    "for col in df.select_dtypes(include=['object']).columns:\n",
    "    df[col] = df[col].astype('category')"
   ]
  },
  {
   "cell_type": "code",
   "execution_count": 26,
   "id": "d7ac6246-09e0-4403-9fc2-e2dad934acff",
   "metadata": {},
   "outputs": [
    {
     "name": "stdout",
     "output_type": "stream",
     "text": [
      "<class 'pandas.core.frame.DataFrame'>\n",
      "RangeIndex: 2000 entries, 0 to 1999\n",
      "Data columns (total 7 columns):\n",
      " #   Column             Non-Null Count  Dtype         \n",
      "---  ------             --------------  -----         \n",
      " 0   timestamp          2000 non-null   datetime64[ns]\n",
      " 1   method             2000 non-null   category      \n",
      " 2   amount             2000 non-null   float64       \n",
      " 3   status             2000 non-null   category      \n",
      " 4   settlement_time_s  2000 non-null   int64         \n",
      " 5   date               2000 non-null   datetime64[ns]\n",
      " 6   period             2000 non-null   category      \n",
      "dtypes: category(3), datetime64[ns](2), float64(1), int64(1)\n",
      "memory usage: 68.9 KB\n"
     ]
    }
   ],
   "source": [
    "df.info()"
   ]
  },
  {
   "cell_type": "code",
   "execution_count": 35,
   "id": "431a1bc4-f626-4512-a443-1d2076d18bc7",
   "metadata": {},
   "outputs": [],
   "source": [
    "upi = df[df['method'] == 'UPI']['amount']\n",
    "card = df[df['method'] == 'Card']['amount']"
   ]
  },
  {
   "cell_type": "markdown",
   "id": "2c17907f-1145-4fb2-94f6-830f8c319e03",
   "metadata": {},
   "source": [
    "# Problem Statement"
   ]
  },
  {
   "cell_type": "markdown",
   "id": "69dda3cd-c8a5-49f8-a911-e04d2616b6fe",
   "metadata": {},
   "source": [
    "- We want to investigate whether customers who pay through UPI spend the same amount, on average, as those who pay through Card.\n",
    "- Even though both are popular payment modes, there may be a difference in spending behavior.\n",
    "- The goal is to statistically test if this difference in mean transaction amounts is real (significant) or just due to random variation."
   ]
  },
  {
   "cell_type": "markdown",
   "id": "c5d9481b-ffe1-48bf-a04f-f9be38c00126",
   "metadata": {},
   "source": [
    "## What We Asked\n",
    "1. Do UPI users and Card users spend the same on average, or is there a difference?\n",
    "2. In other words: Is the higher Card mean (₹738 vs ₹513) just due to random sample variation, or is it a true population difference?"
   ]
  },
  {
   "cell_type": "markdown",
   "id": "2af660c3-13aa-46f0-85bc-e53adcc92970",
   "metadata": {},
   "source": [
    "## Hypothesis Setup\n",
    "#### Null Hypothesis (H₀):\n",
    "- mean UPI = mean Card\n",
    "- (Mean spend of UPI and Card users is equal.)\n",
    "#### Alternative Hypothesis (H₁):\n",
    "- mean UPI != mean Card\n",
    "- (Mean spend of UPI and Card users is not equal.)"
   ]
  },
  {
   "cell_type": "code",
   "execution_count": 47,
   "id": "d7868a63-f684-4dd0-b730-6563f88dc4a8",
   "metadata": {},
   "outputs": [
    {
     "name": "stdout",
     "output_type": "stream",
     "text": [
      "UPI mean 512.8585196531792 \n",
      "Card mean 738.1208299319728\n"
     ]
    }
   ],
   "source": [
    "upi_mean,card_mean = upi.mean(),card.mean()\n",
    "print('UPI mean {} \\nCard mean {}'.format(upi_mean,card_mean))"
   ]
  },
  {
   "cell_type": "code",
   "execution_count": 45,
   "id": "6175ee04-92b7-4fde-9d05-0e867b7190bd",
   "metadata": {},
   "outputs": [
    {
     "name": "stdout",
     "output_type": "stream",
     "text": [
      "t_stat -11.810717987131882 \n",
      "p_value 1.0100812526099393e-30\n"
     ]
    }
   ],
   "source": [
    "t_stat,p_val = stats.ttest_ind(upi,card,equal_var=False)\n",
    "print('t_stat {} \\np_value {}'.format(t_stat,p_val))"
   ]
  },
  {
   "cell_type": "code",
   "execution_count": 48,
   "id": "90aa4413-d46d-471d-9205-3dec8b93bf40",
   "metadata": {},
   "outputs": [
    {
     "name": "stdout",
     "output_type": "stream",
     "text": [
      "-0.5985614254042617\n"
     ]
    }
   ],
   "source": [
    "cohen_d = (upi.mean() - card.mean())/np.sqrt((upi.var()+card.var())/2)\n",
    "print(cohen_d)"
   ]
  },
  {
   "cell_type": "markdown",
   "id": "12943393-cab3-435d-913b-2ec8e9dc8eff",
   "metadata": {},
   "source": [
    "### Results\n",
    "- UPI mean = ₹512.86\n",
    "- Card mean = ₹738.12\n",
    "- t-statistic = -11.81\n",
    "- p-value = 1.01e-30 (< 0.05)\n",
    "- Cohen’s d = -0.60 (medium-to-large effect)"
   ]
  },
  {
   "cell_type": "markdown",
   "id": "bcbf7ce5-bdf7-4ef3-9953-46f52a5cbfc6",
   "metadata": {},
   "source": [
    "#### Interpretation\n",
    "- Since p < 0.05, we reject H₀.\n",
    "- The probability of this difference happening by chance is almost zero.\n",
    "- Cohen’s d = -0.60 → UPI mean is lower than Card mean, and the difference is meaningful in practice."
   ]
  },
  {
   "cell_type": "markdown",
   "id": "84f92638-9039-44bc-aa98-7e7b18f05af0",
   "metadata": {},
   "source": [
    "#### Final Conclusion\n",
    "- UPI and Card means are not equal (H₁ accepted).\n",
    "- Card users spend ~44% more per transaction than UPI users.\n",
    "- The difference is statistically significant and practically important."
   ]
  },
  {
   "cell_type": "markdown",
   "id": "c0d04df0-cc50-4564-87e8-55ea46013450",
   "metadata": {},
   "source": [
    "### We already see Card > UPI in means, but hypothesis testing proves that this difference is statistically significant and not due to random chance. This gives confidence that Card transactions truly generate more revenue in the population, not just in our sample"
   ]
  },
  {
   "cell_type": "markdown",
   "id": "e63815f1-8749-4985-879c-37673dc944d0",
   "metadata": {},
   "source": [
    "#### What we achieved from the test\n",
    "\n",
    "- We compared mean transaction amounts between UPI and Card users.\n",
    "- Card mean = ₹738 and UPI mean = ₹513 → Card users spend ~43.9% more per transaction.\n",
    "- The p-value < 0.05 → the difference is statistically significant, not due to random chance.\n",
    "- Cohen’s d ≈ -0.6 → medium effect size → the difference is practically meaningful."
   ]
  },
  {
   "cell_type": "markdown",
   "id": "dc62a946-9bcb-4154-b136-675cf9358e98",
   "metadata": {},
   "source": [
    "#### Advice to the company\n",
    "\n",
    "- Encourage Card Payments: Since Card users spend more per transaction, the company can promote card usage (e.g., discounts, reward points, EMI offers).\n",
    "- UPI Strategy: UPI is more popular in India due to ease, but spends are lower. The company can design campaigns to increase UPI ticket size (e.g., cashback for higher spend tiers like “Get ₹50 cashback on spends above ₹1,000”).\n",
    "- Segmentation: Different spending behaviors show two distinct customer segments. The company can tailor offers separately:\n",
    "- UPI: focus on increasing volume of transactions.\n",
    "- Card: focus on maximizing value per transaction.\n",
    "- Revenue Growth: By nudging UPI users to increase spend, or attracting more card users, the company can boost overall revenue."
   ]
  },
  {
   "cell_type": "markdown",
   "id": "db67503a-a75b-4b58-9aeb-8449da120a58",
   "metadata": {},
   "source": [
    "# Loan Recovery Analysis – Digital vs Manual Channels"
   ]
  },
  {
   "cell_type": "code",
   "execution_count": 79,
   "id": "786e2877-825a-4dfb-b9f0-8ee0c15965c4",
   "metadata": {},
   "outputs": [],
   "source": [
    "collection_df = pd.read_csv('Collection data.csv')"
   ]
  },
  {
   "cell_type": "code",
   "execution_count": 80,
   "id": "1e3ba9e7-1a4e-4324-b6c3-1c3d1a8ec699",
   "metadata": {},
   "outputs": [
    {
     "data": {
      "text/plain": [
       "(10000, 6)"
      ]
     },
     "execution_count": 80,
     "metadata": {},
     "output_type": "execute_result"
    }
   ],
   "source": [
    "collection_df.shape"
   ]
  },
  {
   "cell_type": "code",
   "execution_count": 81,
   "id": "5e9bfd31-bdff-4e58-ab0a-325065fa5c26",
   "metadata": {},
   "outputs": [],
   "source": [
    "collection_df.drop(columns=['Unnamed: 0'],inplace=True)"
   ]
  },
  {
   "cell_type": "code",
   "execution_count": 82,
   "id": "9355acf1-2f37-4533-a348-a2424c460254",
   "metadata": {},
   "outputs": [
    {
     "name": "stdout",
     "output_type": "stream",
     "text": [
      "<class 'pandas.core.frame.DataFrame'>\n",
      "RangeIndex: 10000 entries, 0 to 9999\n",
      "Data columns (total 5 columns):\n",
      " #   Column          Non-Null Count  Dtype  \n",
      "---  ------          --------------  -----  \n",
      " 0   CustomerID      10000 non-null  int64  \n",
      " 1   LoanType        10000 non-null  object \n",
      " 2   Channel         10000 non-null  object \n",
      " 3   RecoveryAmount  10000 non-null  float64\n",
      " 4   RecoveryDate    10000 non-null  object \n",
      "dtypes: float64(1), int64(1), object(3)\n",
      "memory usage: 390.8+ KB\n"
     ]
    }
   ],
   "source": [
    "collection_df.info()"
   ]
  },
  {
   "cell_type": "code",
   "execution_count": 93,
   "id": "b621a2d4-bb30-4b6c-a702-affb82a72c5a",
   "metadata": {},
   "outputs": [],
   "source": [
    "collection_df.columns = collection_df.columns.str.lower()"
   ]
  },
  {
   "cell_type": "code",
   "execution_count": 97,
   "id": "44783e97-fa71-4aea-84cc-317d64c777c4",
   "metadata": {},
   "outputs": [
    {
     "data": {
      "text/plain": [
       "Index(['customerid', 'loantype', 'channel', 'recoveryamount', 'recoverydate'], dtype='object')"
      ]
     },
     "execution_count": 97,
     "metadata": {},
     "output_type": "execute_result"
    }
   ],
   "source": [
    "collection_df.columns"
   ]
  },
  {
   "cell_type": "code",
   "execution_count": 98,
   "id": "670e79a1-d5e0-43b6-aadd-51c505760c0b",
   "metadata": {},
   "outputs": [],
   "source": [
    "collection_df['recoverydate'] = pd.to_datetime(collection_df['recoverydate'])"
   ]
  },
  {
   "cell_type": "code",
   "execution_count": 99,
   "id": "896b8af1-8a15-4f7e-a340-bfb51b32e8a2",
   "metadata": {},
   "outputs": [],
   "source": [
    "for i in collection_df.select_dtypes(include='object'):\n",
    "    collection_df[i] = collection_df[i].astype('category')"
   ]
  },
  {
   "cell_type": "code",
   "execution_count": 109,
   "id": "96ba353f-74f3-4d51-8c3e-3d90f66c4f0e",
   "metadata": {},
   "outputs": [],
   "source": [
    "# Separate by channel\n",
    "digital = collection_df[collection_df['channel']=='Digital']['recoveryamount']\n",
    "manual = collection_df[collection_df['channel']=='Manual']['recoveryamount']"
   ]
  },
  {
   "cell_type": "code",
   "execution_count": 110,
   "id": "bb0bd13c-c8ae-44f6-9fc9-76fbeb6fc149",
   "metadata": {},
   "outputs": [
    {
     "name": "stdout",
     "output_type": "stream",
     "text": [
      "8291.620643985727\n"
     ]
    }
   ],
   "source": [
    "print(digital.mean())"
   ]
  },
  {
   "cell_type": "code",
   "execution_count": 111,
   "id": "a3306839-a712-4084-bfac-1e15e1999169",
   "metadata": {},
   "outputs": [
    {
     "name": "stdout",
     "output_type": "stream",
     "text": [
      "7061.25374466917\n"
     ]
    }
   ],
   "source": [
    "print(manual.mean())"
   ]
  },
  {
   "cell_type": "code",
   "execution_count": 112,
   "id": "febae975-7da0-4bf6-b338-f15283799214",
   "metadata": {},
   "outputs": [
    {
     "name": "stdout",
     "output_type": "stream",
     "text": [
      "t_stat 18.887537347833007 \n",
      "p_vale 4.142112507600935e-78\n"
     ]
    }
   ],
   "source": [
    "# Perform two-sample t-test\n",
    "t_stat, p_val = stats.ttest_ind(digital, manual, equal_var=False)\n",
    "print('t_stat {} \\np_vale {}'.format(t_stat, p_val))"
   ]
  },
  {
   "cell_type": "code",
   "execution_count": 113,
   "id": "4a2ef34e-6928-45e9-b93d-678ac5a20329",
   "metadata": {},
   "outputs": [],
   "source": [
    "mean_diff = digital.mean() - manual.mean()"
   ]
  },
  {
   "cell_type": "code",
   "execution_count": 114,
   "id": "4864ad45-7811-4529-9129-3136976b4f55",
   "metadata": {},
   "outputs": [],
   "source": [
    "# Pooled Standard Deviation (pooled_std)\n",
    "pooled_std = np.sqrt(((len(digital)-1)*digital.var(ddof=1)+(len(manual)-1)*manual.var(ddof=1))/(len(digital)+len(manual)-1))"
   ]
  },
  {
   "cell_type": "code",
   "execution_count": 116,
   "id": "7f4d0deb-b3e4-486d-aa2c-f6a6efa275de",
   "metadata": {},
   "outputs": [
    {
     "name": "stdout",
     "output_type": "stream",
     "text": [
      "0.3767943001194105\n"
     ]
    }
   ],
   "source": [
    "#Cohen’s d (Effect Size)\n",
    "cohena_d = mean_diff/pooled_std\n",
    "print(cohena_d)"
   ]
  },
  {
   "cell_type": "code",
   "execution_count": 129,
   "id": "db6fdc91-4ce8-4482-95e1-2385f865e808",
   "metadata": {},
   "outputs": [],
   "source": [
    "results = {\n",
    "    'Digital Mean' : [round(digital.mean(),2)],\n",
    "    'Manual Mean' : [round(manual.mean(),2)],\n",
    "    'Mean Diff' : [round(mean_diff,2)],\n",
    "    't - statistic' : [round(t_stat,2)],\n",
    "    'p - Value' : [round(p_val,100)],\n",
    "    \"Cohen's d\" : [round(cohena_d,4)]\n",
    "}"
   ]
  },
  {
   "cell_type": "code",
   "execution_count": 130,
   "id": "c7a1e340-542a-473b-b234-3ffb7c4d72cf",
   "metadata": {},
   "outputs": [
    {
     "data": {
      "text/html": [
       "<div>\n",
       "<style scoped>\n",
       "    .dataframe tbody tr th:only-of-type {\n",
       "        vertical-align: middle;\n",
       "    }\n",
       "\n",
       "    .dataframe tbody tr th {\n",
       "        vertical-align: top;\n",
       "    }\n",
       "\n",
       "    .dataframe thead th {\n",
       "        text-align: right;\n",
       "    }\n",
       "</style>\n",
       "<table border=\"1\" class=\"dataframe\">\n",
       "  <thead>\n",
       "    <tr style=\"text-align: right;\">\n",
       "      <th></th>\n",
       "      <th>Digital Mean</th>\n",
       "      <th>Manual Mean</th>\n",
       "      <th>Mean Diff</th>\n",
       "      <th>t - statistic</th>\n",
       "      <th>p - Value</th>\n",
       "      <th>Cohen's d</th>\n",
       "    </tr>\n",
       "  </thead>\n",
       "  <tbody>\n",
       "    <tr>\n",
       "      <th>0</th>\n",
       "      <td>8291.62</td>\n",
       "      <td>7061.25</td>\n",
       "      <td>1230.37</td>\n",
       "      <td>18.89</td>\n",
       "      <td>4.142113e-78</td>\n",
       "      <td>0.3768</td>\n",
       "    </tr>\n",
       "  </tbody>\n",
       "</table>\n",
       "</div>"
      ],
      "text/plain": [
       "   Digital Mean  Manual Mean  Mean Diff  t - statistic     p - Value  \\\n",
       "0       8291.62      7061.25    1230.37          18.89  4.142113e-78   \n",
       "\n",
       "   Cohen's d  \n",
       "0     0.3768  "
      ]
     },
     "execution_count": 130,
     "metadata": {},
     "output_type": "execute_result"
    }
   ],
   "source": [
    "pd.DataFrame(results)"
   ]
  },
  {
   "cell_type": "markdown",
   "id": "bed918ea-ed41-4bd4-9a4b-c47e7fb9222f",
   "metadata": {},
   "source": [
    "# Loan Recovery Analysis – Digital vs Manual Channels\n",
    "\n",
    "## 1. What We Asked\n",
    "- Is there a significant difference in the **average recovery amount** between **Digital (UPI/NetBanking/Auto-debit)** and **Manual (Cash/Cheque/Field)** channels?\n",
    "- Or is the observed difference just due to **random variation** in our sample?\n",
    "\n",
    "---\n",
    "\n",
    "## 2. Hypotheses\n",
    "- **Null Hypothesis (H₀):**\n",
    "  μDigital = μManual  \n",
    "  (Mean recovery amount from Digital and Manual channels is equal.)\n",
    "\n",
    "- **Alternative Hypothesis (H₁):**\n",
    "  μDigital ≠ μManual  \n",
    "  (Mean recovery amounts are not equal → a difference exists.)\n",
    "\n",
    "---\n",
    "\n",
    "## 3. Results\n",
    "- Digital mean = ₹8,291.62  \n",
    "- Manual mean = ₹7,061.25  \n",
    "- Difference = ₹1,230.37 (~17.4% higher for Digital)  \n",
    "- t-statistic = 18.89  \n",
    "- p-value = 4.14e-78 (< 0.05)  \n",
    "- Cohen’s d = 0.38 (small-to-medium effect size)\n",
    "\n",
    "---\n",
    "\n",
    "## 4. Interpretation\n",
    "- Since **p < 0.05**, we **reject H₀**.  \n",
    "- Digital recoveries are **significantly higher** than Manual recoveries.  \n",
    "- Cohen’s d = 0.38 → the effect is **moderate**, meaning it is practically meaningful.\n",
    "\n",
    "---\n",
    "\n",
    "## 5. Advice to the Company\n",
    "1. **Promote Digital Repayments** → Encourage UPI, NetBanking, Auto-debit since they yield **higher recovery amounts**.  \n",
    "2. **Optimize Field Efforts** → Reduce dependency on costly manual collections except where digital adoption is low.  \n",
    "3. **Cost Efficiency** → Digital channels recover more and also **reduce operational costs**.  \n",
    "4. **Customer Incentives** → Offer rewards/cashback for digital repayments to increase adoption.  \n",
    "\n",
    "---\n",
    "\n",
    "📌 **Final Statement:**  \n",
    "Digital recoveries are **~17% higher** than manual recoveries, with the difference being **statistically significant (p < 0.05)** and **practically meaningful (Cohen’s d = 0.38)**.  \n",
    "The company should **push digital repayment adoption** to maximize recovery and reduce costs.\n"
   ]
  },
  {
   "cell_type": "markdown",
   "id": "60ff13cf-a6b0-4dd9-9503-42963e126983",
   "metadata": {},
   "source": [
    "# Analysis: Calls vs Recovery"
   ]
  },
  {
   "cell_type": "code",
   "execution_count": 155,
   "id": "7513623f-250e-4755-9a89-362c0cd731ff",
   "metadata": {},
   "outputs": [],
   "source": [
    "dialer_data = pd.read_csv('Dailer Data.csv')\n",
    "df = dialer_data.copy()"
   ]
  },
  {
   "cell_type": "code",
   "execution_count": 156,
   "id": "ed9f9324-f772-4570-9ecd-38e5ad16b141",
   "metadata": {},
   "outputs": [],
   "source": [
    "df['DueDate'] = pd.to_datetime(df['DueDate'])\n",
    "df['PaymentDate'] = pd.to_datetime(df['PaymentDate'])"
   ]
  },
  {
   "cell_type": "code",
   "execution_count": 157,
   "id": "e9434ae2-eda8-4278-ba1d-bfeef7b1e95e",
   "metadata": {},
   "outputs": [
    {
     "name": "stdout",
     "output_type": "stream",
     "text": [
      "<class 'pandas.core.frame.DataFrame'>\n",
      "RangeIndex: 20000 entries, 0 to 19999\n",
      "Data columns (total 6 columns):\n",
      " #   Column          Non-Null Count  Dtype  \n",
      "---  ------          --------------  -----  \n",
      " 0   CustomerID      20000 non-null  int64  \n",
      " 1   CallsMade       20000 non-null  int64  \n",
      " 2   PaymentStatus   20000 non-null  int64  \n",
      " 3   RecoveryAmount  20000 non-null  float64\n",
      " 4   DueDate         20000 non-null  object \n",
      " 5   PaymentDate     20000 non-null  object \n",
      "dtypes: float64(1), int64(3), object(2)\n",
      "memory usage: 937.6+ KB\n"
     ]
    }
   ],
   "source": [
    "dialer_data.info()"
   ]
  },
  {
   "cell_type": "code",
   "execution_count": 158,
   "id": "1c33848b-f6c4-4150-b47a-cae596d8fc2f",
   "metadata": {},
   "outputs": [],
   "source": [
    "# Add DelayDays (PaymentDate - DueDate). If not paid, set NaN for delay\n",
    "df['DelayDays'] = (pd.to_datetime(df['PaymentDate']) - pd.to_datetime(df['DueDate'])).dt.days\n",
    "df.loc[df['PaymentStatus'] == 0, 'DelayDays'] = np.nan"
   ]
  },
  {
   "cell_type": "code",
   "execution_count": 160,
   "id": "03e516aa-e383-46d7-98c4-46fd24aa2ea5",
   "metadata": {},
   "outputs": [],
   "source": [
    "# Summary by CallsMade\n",
    "summary = df.groupby('CallsMade').agg(\n",
    "    customers = ('CustomerID','count'),\n",
    "    recovered = ('PaymentStatus','sum'),\n",
    "    recovery_rate = ('PaymentStatus',lambda x:x.mean()),\n",
    "    avg_recovery_amount = ('RecoveryAmount', lambda x : x[x>0].mean() if (x>0).any() else 0),\n",
    "    avg_delay_days = ('DelayDays','mean')).reset_index().sort_values('CallsMade')"
   ]
  },
  {
   "cell_type": "code",
   "execution_count": 161,
   "id": "1d39400e-3eb9-4746-8f76-b7868121a172",
   "metadata": {},
   "outputs": [
    {
     "data": {
      "text/html": [
       "<div>\n",
       "<style scoped>\n",
       "    .dataframe tbody tr th:only-of-type {\n",
       "        vertical-align: middle;\n",
       "    }\n",
       "\n",
       "    .dataframe tbody tr th {\n",
       "        vertical-align: top;\n",
       "    }\n",
       "\n",
       "    .dataframe thead th {\n",
       "        text-align: right;\n",
       "    }\n",
       "</style>\n",
       "<table border=\"1\" class=\"dataframe\">\n",
       "  <thead>\n",
       "    <tr style=\"text-align: right;\">\n",
       "      <th></th>\n",
       "      <th>CallsMade</th>\n",
       "      <th>customers</th>\n",
       "      <th>recovered</th>\n",
       "      <th>recovery_rate</th>\n",
       "      <th>avg_recovery_amount</th>\n",
       "      <th>avg_delay_days</th>\n",
       "    </tr>\n",
       "  </thead>\n",
       "  <tbody>\n",
       "    <tr>\n",
       "      <th>0</th>\n",
       "      <td>0</td>\n",
       "      <td>1867</td>\n",
       "      <td>546</td>\n",
       "      <td>0.292448</td>\n",
       "      <td>4972.725709</td>\n",
       "      <td>-0.468864</td>\n",
       "    </tr>\n",
       "    <tr>\n",
       "      <th>1</th>\n",
       "      <td>1</td>\n",
       "      <td>1822</td>\n",
       "      <td>745</td>\n",
       "      <td>0.408891</td>\n",
       "      <td>5150.151412</td>\n",
       "      <td>1.998658</td>\n",
       "    </tr>\n",
       "    <tr>\n",
       "      <th>2</th>\n",
       "      <td>2</td>\n",
       "      <td>1825</td>\n",
       "      <td>919</td>\n",
       "      <td>0.503562</td>\n",
       "      <td>5363.307093</td>\n",
       "      <td>2.046790</td>\n",
       "    </tr>\n",
       "    <tr>\n",
       "      <th>3</th>\n",
       "      <td>3</td>\n",
       "      <td>1801</td>\n",
       "      <td>1078</td>\n",
       "      <td>0.598556</td>\n",
       "      <td>5638.094406</td>\n",
       "      <td>2.016698</td>\n",
       "    </tr>\n",
       "    <tr>\n",
       "      <th>4</th>\n",
       "      <td>4</td>\n",
       "      <td>1804</td>\n",
       "      <td>1301</td>\n",
       "      <td>0.721175</td>\n",
       "      <td>5844.695117</td>\n",
       "      <td>5.543428</td>\n",
       "    </tr>\n",
       "    <tr>\n",
       "      <th>5</th>\n",
       "      <td>5</td>\n",
       "      <td>1846</td>\n",
       "      <td>1477</td>\n",
       "      <td>0.800108</td>\n",
       "      <td>5979.839632</td>\n",
       "      <td>5.523358</td>\n",
       "    </tr>\n",
       "    <tr>\n",
       "      <th>6</th>\n",
       "      <td>6</td>\n",
       "      <td>1836</td>\n",
       "      <td>1659</td>\n",
       "      <td>0.903595</td>\n",
       "      <td>6242.013969</td>\n",
       "      <td>5.503918</td>\n",
       "    </tr>\n",
       "    <tr>\n",
       "      <th>7</th>\n",
       "      <td>7</td>\n",
       "      <td>1812</td>\n",
       "      <td>1630</td>\n",
       "      <td>0.899558</td>\n",
       "      <td>6442.099046</td>\n",
       "      <td>5.500613</td>\n",
       "    </tr>\n",
       "    <tr>\n",
       "      <th>8</th>\n",
       "      <td>8</td>\n",
       "      <td>1789</td>\n",
       "      <td>1607</td>\n",
       "      <td>0.898267</td>\n",
       "      <td>6607.456652</td>\n",
       "      <td>9.504667</td>\n",
       "    </tr>\n",
       "    <tr>\n",
       "      <th>9</th>\n",
       "      <td>9</td>\n",
       "      <td>1890</td>\n",
       "      <td>1685</td>\n",
       "      <td>0.891534</td>\n",
       "      <td>6785.714499</td>\n",
       "      <td>9.579822</td>\n",
       "    </tr>\n",
       "    <tr>\n",
       "      <th>10</th>\n",
       "      <td>10</td>\n",
       "      <td>1708</td>\n",
       "      <td>1542</td>\n",
       "      <td>0.902810</td>\n",
       "      <td>6979.240502</td>\n",
       "      <td>9.487030</td>\n",
       "    </tr>\n",
       "  </tbody>\n",
       "</table>\n",
       "</div>"
      ],
      "text/plain": [
       "    CallsMade  customers  recovered  recovery_rate  avg_recovery_amount  \\\n",
       "0           0       1867        546       0.292448          4972.725709   \n",
       "1           1       1822        745       0.408891          5150.151412   \n",
       "2           2       1825        919       0.503562          5363.307093   \n",
       "3           3       1801       1078       0.598556          5638.094406   \n",
       "4           4       1804       1301       0.721175          5844.695117   \n",
       "5           5       1846       1477       0.800108          5979.839632   \n",
       "6           6       1836       1659       0.903595          6242.013969   \n",
       "7           7       1812       1630       0.899558          6442.099046   \n",
       "8           8       1789       1607       0.898267          6607.456652   \n",
       "9           9       1890       1685       0.891534          6785.714499   \n",
       "10         10       1708       1542       0.902810          6979.240502   \n",
       "\n",
       "    avg_delay_days  \n",
       "0        -0.468864  \n",
       "1         1.998658  \n",
       "2         2.046790  \n",
       "3         2.016698  \n",
       "4         5.543428  \n",
       "5         5.523358  \n",
       "6         5.503918  \n",
       "7         5.500613  \n",
       "8         9.504667  \n",
       "9         9.579822  \n",
       "10        9.487030  "
      ]
     },
     "execution_count": 161,
     "metadata": {},
     "output_type": "execute_result"
    }
   ],
   "source": [
    "summary"
   ]
  },
  {
   "cell_type": "markdown",
   "id": "54d863cd-5945-4401-815c-860bc6f47c44",
   "metadata": {},
   "source": [
    "### Chi-Square test: callMade (0-10) vs Payment statuses"
   ]
  },
  {
   "cell_type": "code",
   "execution_count": 163,
   "id": "6f602477-c930-4808-8ba4-94462b0d5e8c",
   "metadata": {},
   "outputs": [
    {
     "data": {
      "text/html": [
       "<div>\n",
       "<style scoped>\n",
       "    .dataframe tbody tr th:only-of-type {\n",
       "        vertical-align: middle;\n",
       "    }\n",
       "\n",
       "    .dataframe tbody tr th {\n",
       "        vertical-align: top;\n",
       "    }\n",
       "\n",
       "    .dataframe thead th {\n",
       "        text-align: right;\n",
       "    }\n",
       "</style>\n",
       "<table border=\"1\" class=\"dataframe\">\n",
       "  <thead>\n",
       "    <tr style=\"text-align: right;\">\n",
       "      <th>PaymentStatus</th>\n",
       "      <th>0</th>\n",
       "      <th>1</th>\n",
       "    </tr>\n",
       "    <tr>\n",
       "      <th>CallsMade</th>\n",
       "      <th></th>\n",
       "      <th></th>\n",
       "    </tr>\n",
       "  </thead>\n",
       "  <tbody>\n",
       "    <tr>\n",
       "      <th>0</th>\n",
       "      <td>1321</td>\n",
       "      <td>546</td>\n",
       "    </tr>\n",
       "    <tr>\n",
       "      <th>1</th>\n",
       "      <td>1077</td>\n",
       "      <td>745</td>\n",
       "    </tr>\n",
       "    <tr>\n",
       "      <th>2</th>\n",
       "      <td>906</td>\n",
       "      <td>919</td>\n",
       "    </tr>\n",
       "    <tr>\n",
       "      <th>3</th>\n",
       "      <td>723</td>\n",
       "      <td>1078</td>\n",
       "    </tr>\n",
       "    <tr>\n",
       "      <th>4</th>\n",
       "      <td>503</td>\n",
       "      <td>1301</td>\n",
       "    </tr>\n",
       "    <tr>\n",
       "      <th>5</th>\n",
       "      <td>369</td>\n",
       "      <td>1477</td>\n",
       "    </tr>\n",
       "    <tr>\n",
       "      <th>6</th>\n",
       "      <td>177</td>\n",
       "      <td>1659</td>\n",
       "    </tr>\n",
       "    <tr>\n",
       "      <th>7</th>\n",
       "      <td>182</td>\n",
       "      <td>1630</td>\n",
       "    </tr>\n",
       "    <tr>\n",
       "      <th>8</th>\n",
       "      <td>182</td>\n",
       "      <td>1607</td>\n",
       "    </tr>\n",
       "    <tr>\n",
       "      <th>9</th>\n",
       "      <td>205</td>\n",
       "      <td>1685</td>\n",
       "    </tr>\n",
       "    <tr>\n",
       "      <th>10</th>\n",
       "      <td>166</td>\n",
       "      <td>1542</td>\n",
       "    </tr>\n",
       "  </tbody>\n",
       "</table>\n",
       "</div>"
      ],
      "text/plain": [
       "PaymentStatus     0     1\n",
       "CallsMade                \n",
       "0              1321   546\n",
       "1              1077   745\n",
       "2               906   919\n",
       "3               723  1078\n",
       "4               503  1301\n",
       "5               369  1477\n",
       "6               177  1659\n",
       "7               182  1630\n",
       "8               182  1607\n",
       "9               205  1685\n",
       "10              166  1542"
      ]
     },
     "execution_count": 163,
     "metadata": {},
     "output_type": "execute_result"
    }
   ],
   "source": [
    "ct = pd.crosstab(df['CallsMade'],df['PaymentStatus'])\n",
    "ct"
   ]
  },
  {
   "cell_type": "code",
   "execution_count": 165,
   "id": "48b3f5cf-e4a4-4372-96b2-7fe51f40664b",
   "metadata": {},
   "outputs": [
    {
     "name": "stdout",
     "output_type": "stream",
     "text": [
      "chi2 4507.667678361766 \n",
      "p_chi 0.0 \n",
      "dof 10 \n",
      "excepted [[ 542.45685 1324.54315]\n",
      " [ 529.3821  1292.6179 ]\n",
      " [ 530.25375 1294.74625]\n",
      " [ 523.28055 1277.71945]\n",
      " [ 524.1522  1279.8478 ]\n",
      " [ 536.3553  1309.6447 ]\n",
      " [ 533.4498  1302.5502 ]\n",
      " [ 526.4766  1285.5234 ]\n",
      " [ 519.79395 1269.20605]\n",
      " [ 549.1395  1340.8605 ]\n",
      " [ 496.2594  1211.7406 ]]\n"
     ]
    }
   ],
   "source": [
    "chi2,p_chi,dof,excepted = stats.chi2_contingency(ct.values)\n",
    "print('chi2 {} \\np_chi {} \\ndof {} \\nexcepted {}'.format(chi2,p_chi,dof,excepted))"
   ]
  },
  {
   "cell_type": "markdown",
   "id": "ea11253f-6c0e-457e-84b2-b73d4a48ba6e",
   "metadata": {},
   "source": [
    "# Chi-square Test: CallsMade vs PaymentStatus\n",
    "\n",
    "#### 1. What We Asked\n",
    "- Does the **number of calls** made to a customer affect whether they **pay (PaymentStatus)**?\n",
    "- Or in other words: *Are CallsMade and PaymentStatus independent, or related?*\n",
    "\n",
    "\n",
    "#### 2. Hypotheses\n",
    "- **Null Hypothesis (H₀):** CallsMade and PaymentStatus are independent.  \n",
    "  (Number of calls has no effect on whether payment is made.)  \n",
    "\n",
    "- **Alternative Hypothesis (H₁):** CallsMade and PaymentStatus are dependent.  \n",
    "  (Number of calls influences payment outcome.)  \n",
    "\n",
    "#### 3. Results\n",
    "- Chi² statistic = 4507.67  \n",
    "- p-value ≈ 0.0 (< 0.05)  \n",
    "- Degrees of freedom (dof) = 10  \n",
    "\n",
    "**Expected frequencies (if independence was true):**\n",
    "\n",
    "| CallsMade | Not Paid | Paid    |\n",
    "|-----------|----------|---------|\n",
    "| 0         | 542.46   | 1324.54 |\n",
    "| 1         | 529.38   | 1292.62 |\n",
    "| 2         | 530.25   | 1294.75 |\n",
    "| 3         | 523.28   | 1277.72 |\n",
    "| 4         | 524.15   | 1279.85 |\n",
    "| 5         | 536.36   | 1309.64 |\n",
    "| 6         | 533.45   | 1302.55 |\n",
    "| 7         | 526.48   | 1285.52 |\n",
    "| 8         | 519.79   | 1269.21 |\n",
    "| 9         | 549.14   | 1340.86 |\n",
    "| 10        | 496.26   | 1211.74 |\n",
    "\n",
    "\n",
    "#### 4. Interpretation\n",
    "- Since **p < 0.05**, we **reject H₀**.  \n",
    "- CallsMade and PaymentStatus are **not independent**.  \n",
    "- The number of calls **significantly affects the chance of recovery**.  \n",
    "\n",
    "\n",
    "#### 5. Business Insight\n",
    "- More calls → higher chance of recovery.  \n",
    "- But diminishing returns after ~6–7 calls (seen in marginal analysis).  \n",
    "- Therefore: *Number of calls matters, but beyond 7 calls the benefit is very small.*\n"
   ]
  },
  {
   "cell_type": "markdown",
   "id": "bf05f154-69c7-4512-80af-a21471af6803",
   "metadata": {},
   "source": [
    "# ANOVA on Recovery Amount (only recovered customers)"
   ]
  },
  {
   "cell_type": "code",
   "execution_count": 168,
   "id": "4bc87e7f-e1b2-41b4-a59e-69ebaa067736",
   "metadata": {},
   "outputs": [
    {
     "name": "stdout",
     "output_type": "stream",
     "text": [
      "F_onewayResult(statistic=np.float64(476.2470060202426), pvalue=np.float64(0.0))\n"
     ]
    }
   ],
   "source": [
    "# 3. ANOVA: do recovered amounts differ by CallsMade (only consider recovered rows)\n",
    "recovered_df = df[df['PaymentStatus']==1].copy()\n",
    "anova_res = stats.f_oneway(*[recovered_df[recovered_df['CallsMade']==k]['RecoveryAmount'] \n",
    "                             for k in sorted(recovered_df['CallsMade'].unique()) if len(recovered_df[recovered_df['CallsMade']==k])>0])\n",
    "print(anova_res)"
   ]
  },
  {
   "cell_type": "markdown",
   "id": "af53a669-147f-4575-8700-13677fcdf0d6",
   "metadata": {},
   "source": [
    "# ANOVA Test: Recovery Amounts vs Number of Calls\n",
    "\n",
    "### 1. What We Asked\n",
    "- Do customers who receive **different numbers of calls** have the same **average recovery amount**?\n",
    "- Or does the average recovery amount **differ significantly** depending on call frequency?\n",
    "\n",
    "### 2. Hypotheses\n",
    "- **Null Hypothesis (H₀):**  \n",
    "  Mean recovery amounts are equal across all call groups.  \n",
    "\n",
    "- **Alternative Hypothesis (H₁):**  \n",
    "  At least one call group has a different mean recovery amount.  \n",
    "\n",
    "### 3. Results\n",
    "- F-statistic = **476.25**  \n",
    "- p-value ≈ **0.0 (< 0.05)**  \n",
    "\n",
    "\n",
    "### 4. Interpretation\n",
    "- Since **p < 0.05**, we **reject H₀**.  \n",
    "- This means the **average recovery amount is significantly different across call groups**.  \n",
    "\n",
    "### 5. Business Insight\n",
    "- More calls not only increase the **likelihood of recovery** (Chi-square test)   but also increase the **amount recovered on average**.  \n",
    "- However, earlier analysis showed diminishing returns after ~6–7 calls.  \n",
    "- Therefore, **optimal call strategy = up to 6–7 calls per customer** for maximum efficiency."
   ]
  },
  {
   "cell_type": "markdown",
   "id": "71856582-1cbe-4fbc-87c5-c7274382bde7",
   "metadata": {},
   "source": [
    "# Marginal Gains and Plateau Analysis"
   ]
  },
  {
   "cell_type": "code",
   "execution_count": 169,
   "id": "2fc55bee-284c-44b4-a151-950f461a2d5f",
   "metadata": {},
   "outputs": [],
   "source": [
    "# 4. Marginal gains: incremental recovery rate per extra call\n",
    "sr = summary[['CallsMade','customers','recovered','recovery_rate']].copy()\n",
    "sr['recovery_rate_pct'] = sr['recovery_rate']*100\n",
    "sr = sr.sort_values('CallsMade').reset_index(drop=True)\n",
    "sr['marginal_pct_point'] = sr['recovery_rate_pct'].diff().fillna(sr['recovery_rate_pct'])"
   ]
  },
  {
   "cell_type": "code",
   "execution_count": 172,
   "id": "cc931fa1-1a22-4141-b40e-73c5d2dab148",
   "metadata": {},
   "outputs": [
    {
     "data": {
      "text/html": [
       "<div>\n",
       "<style scoped>\n",
       "    .dataframe tbody tr th:only-of-type {\n",
       "        vertical-align: middle;\n",
       "    }\n",
       "\n",
       "    .dataframe tbody tr th {\n",
       "        vertical-align: top;\n",
       "    }\n",
       "\n",
       "    .dataframe thead th {\n",
       "        text-align: right;\n",
       "    }\n",
       "</style>\n",
       "<table border=\"1\" class=\"dataframe\">\n",
       "  <thead>\n",
       "    <tr style=\"text-align: right;\">\n",
       "      <th></th>\n",
       "      <th>CallsMade</th>\n",
       "      <th>customers</th>\n",
       "      <th>recovered</th>\n",
       "      <th>recovery_rate</th>\n",
       "      <th>recovery_rate_pct</th>\n",
       "      <th>marginal_pct_point</th>\n",
       "    </tr>\n",
       "  </thead>\n",
       "  <tbody>\n",
       "    <tr>\n",
       "      <th>0</th>\n",
       "      <td>0</td>\n",
       "      <td>1867</td>\n",
       "      <td>546</td>\n",
       "      <td>0.292448</td>\n",
       "      <td>29.244778</td>\n",
       "      <td>29.244778</td>\n",
       "    </tr>\n",
       "    <tr>\n",
       "      <th>1</th>\n",
       "      <td>1</td>\n",
       "      <td>1822</td>\n",
       "      <td>745</td>\n",
       "      <td>0.408891</td>\n",
       "      <td>40.889133</td>\n",
       "      <td>11.644355</td>\n",
       "    </tr>\n",
       "    <tr>\n",
       "      <th>2</th>\n",
       "      <td>2</td>\n",
       "      <td>1825</td>\n",
       "      <td>919</td>\n",
       "      <td>0.503562</td>\n",
       "      <td>50.356164</td>\n",
       "      <td>9.467032</td>\n",
       "    </tr>\n",
       "    <tr>\n",
       "      <th>3</th>\n",
       "      <td>3</td>\n",
       "      <td>1801</td>\n",
       "      <td>1078</td>\n",
       "      <td>0.598556</td>\n",
       "      <td>59.855636</td>\n",
       "      <td>9.499471</td>\n",
       "    </tr>\n",
       "    <tr>\n",
       "      <th>4</th>\n",
       "      <td>4</td>\n",
       "      <td>1804</td>\n",
       "      <td>1301</td>\n",
       "      <td>0.721175</td>\n",
       "      <td>72.117517</td>\n",
       "      <td>12.261881</td>\n",
       "    </tr>\n",
       "    <tr>\n",
       "      <th>5</th>\n",
       "      <td>5</td>\n",
       "      <td>1846</td>\n",
       "      <td>1477</td>\n",
       "      <td>0.800108</td>\n",
       "      <td>80.010834</td>\n",
       "      <td>7.893318</td>\n",
       "    </tr>\n",
       "    <tr>\n",
       "      <th>6</th>\n",
       "      <td>6</td>\n",
       "      <td>1836</td>\n",
       "      <td>1659</td>\n",
       "      <td>0.903595</td>\n",
       "      <td>90.359477</td>\n",
       "      <td>10.348643</td>\n",
       "    </tr>\n",
       "    <tr>\n",
       "      <th>7</th>\n",
       "      <td>7</td>\n",
       "      <td>1812</td>\n",
       "      <td>1630</td>\n",
       "      <td>0.899558</td>\n",
       "      <td>89.955850</td>\n",
       "      <td>-0.403627</td>\n",
       "    </tr>\n",
       "    <tr>\n",
       "      <th>8</th>\n",
       "      <td>8</td>\n",
       "      <td>1789</td>\n",
       "      <td>1607</td>\n",
       "      <td>0.898267</td>\n",
       "      <td>89.826719</td>\n",
       "      <td>-0.129131</td>\n",
       "    </tr>\n",
       "    <tr>\n",
       "      <th>9</th>\n",
       "      <td>9</td>\n",
       "      <td>1890</td>\n",
       "      <td>1685</td>\n",
       "      <td>0.891534</td>\n",
       "      <td>89.153439</td>\n",
       "      <td>-0.673280</td>\n",
       "    </tr>\n",
       "    <tr>\n",
       "      <th>10</th>\n",
       "      <td>10</td>\n",
       "      <td>1708</td>\n",
       "      <td>1542</td>\n",
       "      <td>0.902810</td>\n",
       "      <td>90.281030</td>\n",
       "      <td>1.127591</td>\n",
       "    </tr>\n",
       "  </tbody>\n",
       "</table>\n",
       "</div>"
      ],
      "text/plain": [
       "    CallsMade  customers  recovered  recovery_rate  recovery_rate_pct  \\\n",
       "0           0       1867        546       0.292448          29.244778   \n",
       "1           1       1822        745       0.408891          40.889133   \n",
       "2           2       1825        919       0.503562          50.356164   \n",
       "3           3       1801       1078       0.598556          59.855636   \n",
       "4           4       1804       1301       0.721175          72.117517   \n",
       "5           5       1846       1477       0.800108          80.010834   \n",
       "6           6       1836       1659       0.903595          90.359477   \n",
       "7           7       1812       1630       0.899558          89.955850   \n",
       "8           8       1789       1607       0.898267          89.826719   \n",
       "9           9       1890       1685       0.891534          89.153439   \n",
       "10         10       1708       1542       0.902810          90.281030   \n",
       "\n",
       "    marginal_pct_point  \n",
       "0            29.244778  \n",
       "1            11.644355  \n",
       "2             9.467032  \n",
       "3             9.499471  \n",
       "4            12.261881  \n",
       "5             7.893318  \n",
       "6            10.348643  \n",
       "7            -0.403627  \n",
       "8            -0.129131  \n",
       "9            -0.673280  \n",
       "10            1.127591  "
      ]
     },
     "execution_count": 172,
     "metadata": {},
     "output_type": "execute_result"
    }
   ],
   "source": [
    "sr"
   ]
  },
  {
   "cell_type": "markdown",
   "id": "2334a5d3-7449-4327-b097-660c5f9e182b",
   "metadata": {},
   "source": [
    "# Marginal Gains and Plateau Analysis\n",
    "\n",
    "### 1. What We Asked\n",
    "- At what number of calls does the **recovery rate stop improving significantly**?\n",
    "- We measure the **marginal gain** = increase in recovery rate (percentage points) from one additional call.\n",
    "\n",
    "### 2. Method\n",
    "1. Group customers by number of calls made.  \n",
    "2. Calculate recovery rate (%) for each group.  \n",
    "3. Compute **marginal gain** = difference in recovery rate between consecutive call groups.  \n",
    "4. Find the first call level where marginal gain < 1 percentage point → **plateau point**.\n",
    "\n",
    "### 3. Results (Example from dataset)\n",
    "| CallsMade | Recovery Rate (%) | Marginal Gain (pp) |\n",
    "|-----------|-------------------|--------------------|\n",
    "| 0         | 29.2%             | ---                |\n",
    "| 1         | 40.9%             | +11.7              |\n",
    "| 2         | 50.4%             | +9.5               |\n",
    "| 3         | 59.9%             | +9.5               |\n",
    "| 4         | 72.1%             | +12.2              |\n",
    "| 5         | 80.0%             | +7.9               |\n",
    "| 6         | 90.4%             | +10.3              |\n",
    "| 7         | 90.0%             | -0.4               |\n",
    "| 8         | 89.8%             | -0.1               |\n",
    "| 9         | 89.2%             | -0.6               |\n",
    "| 10        | 90.3%             | +1.1               |\n",
    "\n",
    "- **Plateau Point = 7 calls** (first time marginal gain < 1 percentage point).  \n",
    "\n",
    "### 4. Interpretation\n",
    "- Recovery rates improve steadily from **0 → 6 calls**.  \n",
    "- After **7 calls**, the marginal improvement is negligible (even negative at times).  \n",
    "- **Optimal calling strategy**: cap collection calls at **6–7 per customer**.  \n",
    "\n",
    "### 5. Business Insight\n",
    "- Up to 6 calls → strong increase in recovery probability.  \n",
    "- Beyond 7 calls → minimal benefit but higher cost and customer irritation.  \n",
    "- Company should **optimize call strategy**:  \n",
    "  - Routine accounts: stop at 6 calls.  \n",
    "  - High-value defaults: allow up to 7 calls max."
   ]
  },
  {
   "cell_type": "code",
   "execution_count": 173,
   "id": "8962a953-fc8f-49c7-afbd-31b6a129aee9",
   "metadata": {},
   "outputs": [
    {
     "data": {
      "text/plain": [
       "7"
      ]
     },
     "execution_count": 173,
     "metadata": {},
     "output_type": "execute_result"
    }
   ],
   "source": [
    "# Find first CallsMade where marginal gain falls below 1 percentage point\n",
    "plateau_point = sr.loc[sr['marginal_pct_point'] < 1, 'CallsMade']\n",
    "plateau = int(plateau_point.iloc[0]) if len(plateau_point)>0 else None\n",
    "plateau"
   ]
  },
  {
   "cell_type": "markdown",
   "id": "ad64362a-765b-40b9-9710-a358022813d0",
   "metadata": {},
   "source": [
    "# PaymentStatus ~ CallsMade + CallsMade²"
   ]
  },
  {
   "cell_type": "code",
   "execution_count": 176,
   "id": "5a76bd90-45aa-48b1-89e3-1cf97c6c0100",
   "metadata": {},
   "outputs": [
    {
     "data": {
      "text/html": [
       "<div>\n",
       "<style scoped>\n",
       "    .dataframe tbody tr th:only-of-type {\n",
       "        vertical-align: middle;\n",
       "    }\n",
       "\n",
       "    .dataframe tbody tr th {\n",
       "        vertical-align: top;\n",
       "    }\n",
       "\n",
       "    .dataframe thead th {\n",
       "        text-align: right;\n",
       "    }\n",
       "</style>\n",
       "<table border=\"1\" class=\"dataframe\">\n",
       "  <thead>\n",
       "    <tr style=\"text-align: right;\">\n",
       "      <th></th>\n",
       "      <th>dy/dx</th>\n",
       "      <th>Std. Err.</th>\n",
       "      <th>z</th>\n",
       "      <th>Pr(&gt;|z|)</th>\n",
       "      <th>Conf. Int. Low</th>\n",
       "      <th>Cont. Int. Hi.</th>\n",
       "    </tr>\n",
       "  </thead>\n",
       "  <tbody>\n",
       "    <tr>\n",
       "      <th>CallsMade</th>\n",
       "      <td>0.100048</td>\n",
       "      <td>0.002976</td>\n",
       "      <td>33.622187</td>\n",
       "      <td>7.952648e-248</td>\n",
       "      <td>0.094216</td>\n",
       "      <td>0.105881</td>\n",
       "    </tr>\n",
       "    <tr>\n",
       "      <th>CallsMade_sq</th>\n",
       "      <td>-0.004583</td>\n",
       "      <td>0.000336</td>\n",
       "      <td>-13.638481</td>\n",
       "      <td>2.364328e-42</td>\n",
       "      <td>-0.005242</td>\n",
       "      <td>-0.003925</td>\n",
       "    </tr>\n",
       "  </tbody>\n",
       "</table>\n",
       "</div>"
      ],
      "text/plain": [
       "                 dy/dx  Std. Err.          z       Pr(>|z|)  Conf. Int. Low  \\\n",
       "CallsMade     0.100048   0.002976  33.622187  7.952648e-248        0.094216   \n",
       "CallsMade_sq -0.004583   0.000336 -13.638481   2.364328e-42       -0.005242   \n",
       "\n",
       "              Cont. Int. Hi.  \n",
       "CallsMade           0.105881  \n",
       "CallsMade_sq       -0.003925  "
      ]
     },
     "execution_count": 176,
     "metadata": {},
     "output_type": "execute_result"
    }
   ],
   "source": [
    "# 5. Logistic regression: PaymentStatus ~ CallsMade + CallsMade^2 (to capture non-linearity)\n",
    "df['CallsMade_sq'] = df['CallsMade']**2\n",
    "model = smf.logit(\"PaymentStatus ~ CallsMade + CallsMade_sq\", data=df).fit(disp=False)\n",
    "# Get marginal effects at mean\n",
    "marg_eff = model.get_margeff(at='overall').summary_frame()\n",
    "marg_eff"
   ]
  },
  {
   "cell_type": "markdown",
   "id": "16c01b63-07f7-4ea2-8e01-2579e283d6b7",
   "metadata": {},
   "source": [
    "# Logistic Regression: PaymentStatus ~ CallsMade + CallsMade²\n",
    "\n",
    "### 1. What We Asked\n",
    "- How does the number of calls affect the **probability of recovery**?\n",
    "- Can we capture the **diminishing returns effect** mathematically?\n",
    "\n",
    "### 2. Method\n",
    "- Use **logistic regression** because the dependent variable (PaymentStatus) is binary (0 = Not Paid, 1 = Paid).\n",
    "- Independent variables:\n",
    "  - CallsMade (linear effect)\n",
    "  - CallsMade² (quadratic effect, captures diminishing returns)\n",
    "    \n",
    "### 3. Results (Model Output)\n",
    "- **Intercept = -1.012** (p < 0.001)  \n",
    "- **CallsMade = +0.625** (p < 0.001)  \n",
    "- **CallsMade² = -0.0286** (p < 0.001)  \n",
    "\n",
    "Marginal effects:  \n",
    "- Each additional call increases recovery probability by **~+10 percentage points initially**.  \n",
    "- The negative CallsMade² term shows **diminishing returns** — after some calls, extra calls add less benefit.  \n",
    "\n",
    "### 4. Interpretation\n",
    "- Recovery probability rises steeply from 0 → 6 calls.  \n",
    "- After ~7 calls, the curve flattens (confirmed by plateau analysis).  \n",
    "- Logistic regression mathematically proves the **non-linear relationship**: more calls help, but not forever.  \n",
    "\n",
    "### 5. Business Insight\n",
    "- **Optimal call strategy:** ~6–7 calls per customer.  \n",
    "- Beyond this, the cost of extra calls outweighs the tiny recovery benefit.  \n",
    "- Use this model to **predict recovery likelihood** and optimize agent effort.  \n"
   ]
  },
  {
   "cell_type": "code",
   "execution_count": 180,
   "id": "ca848b46-9dd8-4ca9-8563-05ba674d98b6",
   "metadata": {},
   "outputs": [
    {
     "name": "stdout",
     "output_type": "stream",
     "text": [
      "Optimization terminated successfully.\n",
      "         Current function value: 0.491833\n",
      "         Iterations 6\n",
      "                           Logit Regression Results                           \n",
      "==============================================================================\n",
      "Dep. Variable:          PaymentStatus   No. Observations:                20000\n",
      "Model:                          Logit   Df Residuals:                    19997\n",
      "Method:                           MLE   Df Model:                            2\n",
      "Date:                Thu, 18 Sep 2025   Pseudo R-squ.:                  0.1839\n",
      "Time:                        13:31:34   Log-Likelihood:                -9836.7\n",
      "converged:                       True   LL-Null:                       -12053.\n",
      "Covariance Type:            nonrobust   LLR p-value:                     0.000\n",
      "================================================================================\n",
      "                   coef    std err          z      P>|z|      [0.025      0.975]\n",
      "--------------------------------------------------------------------------------\n",
      "Intercept       -1.0116      0.040    -25.424      0.000      -1.090      -0.934\n",
      "CallsMade        0.6247      0.021     30.102      0.000       0.584       0.665\n",
      "CallsMade_sq    -0.0286      0.002    -13.273      0.000      -0.033      -0.024\n",
      "================================================================================\n"
     ]
    },
    {
     "data": {
      "image/png": "[encoded data removed]",
      "text/plain": [
       "<Figure size 800x500 with 1 Axes>"
      ]
     },
     "metadata": {},
     "output_type": "display_data"
    }
   ],
   "source": [
    "# 1. Add squared term for diminishing returns\n",
    "calls_extended['CallsMade_sq'] = calls_extended['CallsMade']**2\n",
    "\n",
    "# 2. Fit logistic regression model\n",
    "logit_model = smf.logit(\"PaymentStatus ~ CallsMade + CallsMade_sq\", data=calls_extended).fit()\n",
    "print(logit_model.summary())\n",
    "\n",
    "# 3. Predict probabilities for 0–10 calls\n",
    "call_range = np.arange(0, 11)  # 0–10 calls\n",
    "pred_df = pd.DataFrame({\n",
    "    \"CallsMade\": call_range,\n",
    "    \"CallsMade_sq\": call_range**2\n",
    "})\n",
    "pred_df[\"PredictedProb\"] = logit_model.predict(pred_df)\n",
    "\n",
    "# 4. Plot curve\n",
    "plt.figure(figsize=(8,5))\n",
    "plt.plot(pred_df[\"CallsMade\"], pred_df[\"PredictedProb\"], marker='o')\n",
    "plt.axvline(x=7, color='r', linestyle='--', label=\"Plateau (~7 calls)\")\n",
    "plt.title(\"Predicted Recovery Probability vs CallsMade\")\n",
    "plt.xlabel(\"Number of Calls\")\n",
    "plt.ylabel(\"Predicted Probability of Recovery\")\n",
    "plt.ylim(0, 1.05)\n",
    "plt.legend()\n",
    "plt.grid(True)\n",
    "plt.show()\n"
   ]
  }
 ],
 "metadata": {
  "kernelspec": {
   "display_name": "Python 3 (ipykernel)",
   "language": "python",
   "name": "python3"
  },
  "language_info": {
   "codemirror_mode": {
    "name": "ipython",
    "version": 3
   },
   "file_extension": ".py",
   "mimetype": "text/x-python",
   "name": "python",
   "nbconvert_exporter": "python",
   "pygments_lexer": "ipython3",
   "version": "3.13.5"
  }
 },
 "nbformat": 4,
 "nbformat_minor": 5
}
